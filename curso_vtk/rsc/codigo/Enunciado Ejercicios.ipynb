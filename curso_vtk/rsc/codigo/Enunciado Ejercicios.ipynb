{
 "cells": [
  {
   "cell_type": "code",
   "execution_count": null,
   "metadata": {
    "collapsed": true
   },
   "outputs": [],
   "source": [
    "import vtk"
   ]
  },
  {
   "cell_type": "code",
   "execution_count": null,
   "metadata": {
    "collapsed": true
   },
   "outputs": [],
   "source": [
    "from IPython.display import Image\n",
    "def vtk_show(renderer, width=600, height=450):\n",
    "    \"\"\"\n",
    "    Takes vtkRenderer instance and returns an IPython Image with the rendering.\n",
    "    \"\"\"\n",
    "    renderWindow = vtk.vtkRenderWindow()\n",
    "    renderWindow.SetOffScreenRendering(1)\n",
    "    renderWindow.AddRenderer(renderer)\n",
    "    renderWindow.SetSize(width, height)\n",
    "    renderWindow.Render()\n",
    "     \n",
    "    windowToImageFilter = vtk.vtkWindowToImageFilter()\n",
    "    windowToImageFilter.SetInput(renderWindow)\n",
    "    windowToImageFilter.Update()\n",
    "     \n",
    "    writer = vtk.vtkPNGWriter()\n",
    "    writer.SetWriteToMemory(1)\n",
    "    writer.SetInputConnection(windowToImageFilter.GetOutputPort())\n",
    "    writer.Write()\n",
    "    data = str(buffer(writer.GetResult()))\n",
    "    \n",
    "    return Image(data)"
   ]
  },
  {
   "cell_type": "markdown",
   "metadata": {},
   "source": [
    "## Hola mundo"
   ]
  },
  {
   "cell_type": "code",
   "execution_count": null,
   "metadata": {
    "collapsed": false
   },
   "outputs": [],
   "source": [
    "coneSource = vtk.vtkConeSource()\n",
    "coneSource.SetResolution(10)\n",
    "\n",
    "mapper = vtk.vtkPolyDataMapper()\n",
    "mapper.SetInputConnection(coneSource.GetOutputPort())\n",
    "\n",
    "actor = vtk.vtkActor()\n",
    "actor.SetMapper(mapper)\n",
    " \n",
    "renderer = vtk.vtkRenderer()\n",
    "renderer.AddActor(actor)\n",
    "\n",
    "renderWindow = vtk.vtkRenderWindow()\n",
    "renderWindow.AddRenderer(renderer)\n",
    "\n",
    "renderWindowInteractor = vtk.vtkRenderWindowInteractor()\n",
    "renderWindowInteractor.SetRenderWindow(renderWindow)\n",
    " \n",
    "\n",
    "renderWindow.Render()\n",
    "renderWindowInteractor.Start()"
   ]
  },
  {
   "cell_type": "code",
   "execution_count": null,
   "metadata": {
    "collapsed": false
   },
   "outputs": [],
   "source": [
    "vtk_show(renderer)"
   ]
  },
  {
   "cell_type": "markdown",
   "metadata": {},
   "source": [
    "## Ejercicio 1\n",
    "\n",
    "![](ej01.png)\n",
    "\n",
    "- Aumenta la resolución del cono hasta 20 caras\n",
    "- Pinta el actor con SetDiffuseColor\n",
    "- Rota el actor 30 grados en X, y -45 en Y\n",
    "- Pon el background del renderer azul oscuro\n",
    "- Aumenta el zoom de la ActiveCamera en 1.5"
   ]
  },
  {
   "cell_type": "markdown",
   "metadata": {},
   "source": [
    "## Ejercicio 2\n",
    "\n",
    "- Utiliza un Cilindro como Source\n",
    "- Cambiando las propiedades de color del actor consigue una imágen como la siguiente\n",
    "\n",
    "![](ej02.png)"
   ]
  },
  {
   "cell_type": "markdown",
   "metadata": {},
   "source": [
    "## Ejercicio 3\n",
    "\n",
    "- Cambia el estilo de interacción a \n",
    "```\n",
    "vtkInteractorStyleTrackballCamera\n",
    "```\n",
    "\n",
    "- Añade un observer al interactor que escuche por 'LeftButtonPressEvent' y cambie el color del cilindro a uno aleatorio\n"
   ]
  },
  {
   "cell_type": "markdown",
   "metadata": {},
   "source": [
    "## Ejercicio 4\n",
    "\n",
    "![](ej04.png)\n",
    "\n",
    "- Carga las posiciones, conexiones y radio de los átomos y píntalos todos como en la figura\n",
    "- Crea un vtkPolyData y rellenalo con los datos leídos\n",
    "    - SetPoints para los átomos\n",
    "    - SetLines para las conexiones\n",
    "    - GetPointData().SetScalars para los radios\n",
    "- Combina vtkSphereSource y vtkGlyph3D para generar todas las esferas\n",
    "- Colorea las esferas según su radio con vtkColorTransferFunction\n",
    "- Pinta las conexiones con vtkTubeFilter\n",
    "- Calcula el boundingBox con vtkOutlineFilter y píntalo junto con los demás actores\n"
   ]
  },
  {
   "cell_type": "markdown",
   "metadata": {
    "collapsed": true
   },
   "source": [
    "## Ejercicio 5\n",
    "\n",
    "![](ej05.png)\n",
    "\n",
    "- Carga el archivo Wind.vtk con vtkStructuredPointsReader\n",
    "- Con vtkLookupTable mapea los escalares a la saturación y fja el Hue y el Value\n",
    "- Utiliza un PlaneSource colocado en un extremo del prisma como SourceConnection del vtkStreamLine\n",
    "- En el PolyDataMapper utiliza los rangos que devuelve GetScalarRange() de los datos leídos\n",
    "- Añade el bounding box con vtkOutlineFilter "
   ]
  },
  {
   "cell_type": "markdown",
   "metadata": {
    "collapsed": true
   },
   "source": [
    "## Ejercicio 6\n",
    "\n",
    "![](ej06.png)\n",
    "\n",
    "- Carga el dataset \"asymmetric.tiff\". Es un labelmap con el background a 0 y un número correlativo por objeto\n",
    "- Con GetScalarRange() obten el rango de etiquetas en el labelmap\n",
    "- Haz un renderizado volumétrico utilizando las clases:\n",
    "    - vtkPiecewiseFunction\n",
    "    - vtkColorTransferFunction\n",
    "    - vtkVolumeProperty\n",
    "    - vtkVolumeRayCastCompositeFunction\n",
    "- Añade el volúmen a un mapper y este a su vez a un actor (vtkVolume)\n",
    "- Disminuye el SampeDistance en el mapper para obtener un mejor resultado"
   ]
  },
  {
   "cell_type": "markdown",
   "metadata": {},
   "source": [
    "## Ejercicio 7\n",
    "\n",
    "![](ej07.jpg)\n",
    "\n",
    "- Renderiza el \"One-third_resolution_stack.tif\" como el widget vtkImagePlaneWidget\n",
    "- Pon su orientazón al Eje Z\n",
    "- Añadele el Interactor y muéstalo con EnabledOn"
   ]
  },
  {
   "cell_type": "markdown",
   "metadata": {},
   "source": [
    "## Ejercicio 8\n",
    "\n",
    "- Renderiza el mismo dataset esta vez convirtiendo a malla el labelmap utilizando Marching Cubes\n",
    "- Haz lo mismo con \"asymmetric.tif\"\n",
    "- Colorea todos los objetos de symmetric de rojo y los de asymmetric de verde"
   ]
  },
  {
   "cell_type": "code",
   "execution_count": null,
   "metadata": {
    "collapsed": true
   },
   "outputs": [],
   "source": []
  }
 ],
 "metadata": {
  "kernelspec": {
   "display_name": "Python 2",
   "language": "python",
   "name": "python2"
  },
  "language_info": {
   "codemirror_mode": {
    "name": "ipython",
    "version": 2
   },
   "file_extension": ".py",
   "mimetype": "text/x-python",
   "name": "python",
   "nbconvert_exporter": "python",
   "pygments_lexer": "ipython2",
   "version": "2.7.11"
  }
 },
 "nbformat": 4,
 "nbformat_minor": 0
}
